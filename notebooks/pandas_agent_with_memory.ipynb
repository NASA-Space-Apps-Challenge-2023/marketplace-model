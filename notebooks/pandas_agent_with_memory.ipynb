{
 "cells": [
  {
   "cell_type": "code",
   "execution_count": null,
   "metadata": {},
   "outputs": [],
   "source": [
    "from typing import Any, List, Optional\n",
    "\n",
    "from langchain.agents.agent import AgentExecutor\n",
    "# from langchain.agents.agent_toolkits.pandas.prompt import PREFIX, SUFFIX\n",
    "from langchain.agents import ZeroShotAgent\n",
    "from langchain.callbacks.base import BaseCallbackManager\n",
    "from langchain.chains.llm import LLMChain\n",
    "from langchain.llms.base import BaseLLM\n",
    "from langchain.tools.python.tool import PythonAstREPLTool\n",
    "from langchain.memory import ConversationBufferMemory\n",
    "\n",
    "memory = ConversationBufferMemory(memory_key=\"chat_history\")\n",
    "def create_pandas_dataframe_agent(\n",
    "    llm: BaseLLM,\n",
    "    df: Any,\n",
    "    callback_manager: Optional[BaseCallbackManager] = None,\n",
    "    input_variables: Optional[List[str]] = None,\n",
    "    verbose: bool = False,\n",
    "    return_intermediate_steps: bool = False,\n",
    "    max_iterations: Optional[int] = 15,\n",
    "    max_execution_time: Optional[float] = None,\n",
    "    early_stopping_method: str = \"force\",\n",
    "    **kwargs: Any,\n",
    ") -> AgentExecutor:\n",
    "    \"\"\"Construct a pandas agent from an LLM and dataframe.\"\"\"\n",
    "    import pandas as pd\n",
    "\n",
    "    if not isinstance(df, pd.DataFrame):\n",
    "        raise ValueError(f\"Expected pandas object, got {type(df)}\")\n",
    "    if input_variables is None:\n",
    "        input_variables = [\"df\", \"input\", \"agent_scratchpad\"]\n",
    "    tools = [PythonAstREPLTool(locals={\"df\": df})]\n",
    "    \n",
    "    PREFIX = \"\"\"\n",
    "            You are working with a pandas dataframe in Python. The name of the dataframe is `df`.\n",
    "            You should use the tools below to answer the question posed of you:\"\"\"\n",
    "    \n",
    "    SUFFIX = \"\"\"\n",
    "            This is the result of `print(df.head())`:\n",
    "            {df}\n",
    "            Begin!\n",
    "            {chat_history}\n",
    "            Question: {input}\n",
    "            {agent_scratchpad}\"\"\"\n",
    "\n",
    "    prompt = ZeroShotAgent.create_prompt(\n",
    "        tools, \n",
    "        prefix=PREFIX,\n",
    "        suffix=SUFFIX,\n",
    "        input_variables=[\"df\", \"input\", \"chat_history\", \"agent_scratchpad\"]\n",
    "    )\n",
    "    \n",
    "    partial_prompt = prompt.partial(df=str(df.head()))\n",
    "    \n",
    "    llm_chain = LLMChain(\n",
    "        llm=llm,\n",
    "        prompt=partial_prompt,\n",
    "        callback_manager=callback_manager,\n",
    "    )\n",
    "    \n",
    "    tool_names = [tool.name for tool in tools]\n",
    "    \n",
    "    agent = ZeroShotAgent(\n",
    "        llm_chain=llm_chain,\n",
    "        allowed_tools=tool_names,\n",
    "        callback_manager=callback_manager,\n",
    "        **kwargs,\n",
    "    )\n",
    "    return AgentExecutor.from_agent_and_tools(\n",
    "        agent=agent,\n",
    "        tools=tools,\n",
    "        verbose=verbose,\n",
    "        return_intermediate_steps=return_intermediate_steps,\n",
    "        max_iterations=max_iterations,\n",
    "        max_execution_time=max_execution_time,\n",
    "        early_stopping_method=early_stopping_method,\n",
    "        callback_manager=callback_manager,\n",
    "        memory = memory,\n",
    "        handle_parsing_errors=True\n",
    "    )"
   ]
  },
  {
   "cell_type": "code",
   "execution_count": null,
   "metadata": {},
   "outputs": [],
   "source": [
    "import os\n",
    "import getpass\n",
    "import pandas as pd\n",
    "from langchain.chat_models import ChatOpenAI\n",
    "from langchain.agents.agent_types import AgentType"
   ]
  },
  {
   "cell_type": "code",
   "execution_count": null,
   "metadata": {},
   "outputs": [],
   "source": [
    "df = pd.read_csv(\"feed.csv\")\n",
    "os.environ['OPENAI_API_KEY'] = getpass.getpass('OpenAI API Key:')"
   ]
  },
  {
   "cell_type": "code",
   "execution_count": null,
   "metadata": {},
   "outputs": [],
   "source": [
    "agent = create_pandas_dataframe_agent(ChatOpenAI(temperature=0, model=\"gpt-3.5-turbo-0613\"),\n",
    "                                        df,\n",
    "                                        verbose=True)"
   ]
  },
  {
   "cell_type": "code",
   "execution_count": null,
   "metadata": {},
   "outputs": [],
   "source": [
    "agent.memory"
   ]
  },
  {
   "cell_type": "code",
   "execution_count": null,
   "metadata": {},
   "outputs": [],
   "source": [
    "agent.run(input=\"How many projects are there?\")"
   ]
  },
  {
   "cell_type": "code",
   "execution_count": null,
   "metadata": {},
   "outputs": [],
   "source": [
    "agent.run(\"What projects do you recommend to me?\")"
   ]
  },
  {
   "cell_type": "code",
   "execution_count": null,
   "metadata": {},
   "outputs": [],
   "source": []
  }
 ],
 "metadata": {
  "kernelspec": {
   "display_name": "hackathon",
   "language": "python",
   "name": "python3"
  },
  "language_info": {
   "codemirror_mode": {
    "name": "ipython",
    "version": 3
   },
   "file_extension": ".py",
   "mimetype": "text/x-python",
   "name": "python",
   "nbconvert_exporter": "python",
   "pygments_lexer": "ipython3",
   "version": "3.10.13"
  },
  "orig_nbformat": 4
 },
 "nbformat": 4,
 "nbformat_minor": 2
}
