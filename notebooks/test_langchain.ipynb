{
 "cells": [
  {
   "cell_type": "code",
   "execution_count": 153,
   "metadata": {},
   "outputs": [],
   "source": [
    "import os\n",
    "import getpass\n",
    "import pandas as pd\n",
    "\n",
    "from langchain.vectorstores import Chroma\n",
    "from langchain.text_splitter import TokenTextSplitter\n",
    "from langchain.document_loaders import DataFrameLoader, JSONLoader, CSVLoader\n",
    "from langchain.embeddings.openai import OpenAIEmbeddings"
   ]
  },
  {
   "cell_type": "code",
   "execution_count": 41,
   "metadata": {},
   "outputs": [],
   "source": [
    "os.environ['OPENAI_API_KEY'] = getpass.getpass('OpenAI API Key:')"
   ]
  },
  {
   "cell_type": "code",
   "execution_count": 139,
   "metadata": {},
   "outputs": [],
   "source": [
    "df = pd.read_csv(\"feed.csv\")\n",
    "\n",
    "loader = DataFrameLoader(df, page_content_column=\"project_name\")\n",
    "data = loader.load()\n",
    "\n",
    "text_splitter = TokenTextSplitter(chunk_size=1500, chunk_overlap=0)\n",
    "documents = text_splitter.split_documents(data)\n",
    "db = Chroma.from_documents(documents, OpenAIEmbeddings())"
   ]
  },
  {
   "cell_type": "code",
   "execution_count": 178,
   "metadata": {},
   "outputs": [
    {
     "data": {
      "text/plain": [
       "503"
      ]
     },
     "execution_count": 178,
     "metadata": {},
     "output_type": "execute_result"
    }
   ],
   "source": [
    "df.shape[0]"
   ]
  },
  {
   "cell_type": "code",
   "execution_count": 146,
   "metadata": {},
   "outputs": [],
   "source": [
    "loader = JSONLoader(\n",
    "    file_path='feed.json',\n",
    "    jq_schema='._project[]',\n",
    "    text_content=False)\n",
    "\n",
    "data = loader.load()\n",
    "\n",
    "text_splitter = TokenTextSplitter(chunk_size=1500, chunk_overlap=0)\n",
    "documents = text_splitter.split_documents(data)\n",
    "db = Chroma.from_documents(documents, OpenAIEmbeddings())"
   ]
  },
  {
   "cell_type": "code",
   "execution_count": 147,
   "metadata": {},
   "outputs": [
    {
     "data": {
      "text/plain": [
       "' Based on your interests, I recommend the Florida Microplastic Awareness Project. This project is actively collecting coastal water samples and filtering them to look for the presence of microplastics, as well as educating stakeholders about the sources of and problems caused by microplastics. This project is focused on ecology and environment, nature and outdoors, and ocean/water and marine.'"
      ]
     },
     "execution_count": 147,
     "metadata": {},
     "output_type": "execute_result"
    }
   ],
   "source": [
    "# LLM\n",
    "from langchain.prompts import PromptTemplate\n",
    "from langchain.chains import RetrievalQA\n",
    "from langchain.llms import OpenAI\n",
    "\n",
    "prompt_template = \"\"\"Use the following pieces of context about projects information to give me recommendations based on my projects interests and tell me what projects are related to my interests. \n",
    "If you don't know the answer, just say that you don't know, don't try to make up an answer.\n",
    "\n",
    "{context}\n",
    "\n",
    "My projects interests are the following:\n",
    "{question}\n",
    "\n",
    "Answer here:\"\"\"\n",
    "\n",
    "PROMPT = PromptTemplate(\n",
    "    template=prompt_template, input_variables=[\"context\", \"question\"]\n",
    ")\n",
    "\n",
    "chain_type_kwargs = {\"prompt\": PROMPT}\n",
    "qa = RetrievalQA.from_chain_type(llm=OpenAI(temperature=0), chain_type=\"stuff\", retriever=db.as_retriever(), chain_type_kwargs=chain_type_kwargs)\n",
    "\n",
    "query = \"My interests are in microplastics, or something related with aquatic species\"\n",
    "qa.run(query)"
   ]
  },
  {
   "cell_type": "code",
   "execution_count": 174,
   "metadata": {},
   "outputs": [],
   "source": [
    "prompt_template = \"\"\"Use the following pieces of context to give me the project description of each project name I will provide to you, each project description should be in a new line. \n",
    "If you don't know the answer, just say that you don't know, don't try to make up an answer.\n",
    "\n",
    "{context}\n",
    "\n",
    "The project names of which I need their descriptions are:\n",
    "{question}\n",
    "\n",
    "Answer here:\"\"\"\n",
    "\n",
    "PROMPT = PromptTemplate(\n",
    "    template=prompt_template, input_variables=[\n",
    "        \"context\", \"question\"]\n",
    ")\n",
    "\n",
    "chain_type_kwargs = {\"prompt\": PROMPT}\n",
    "\n",
    "qa = RetrievalQA.from_chain_type(llm=OpenAI(temperature=0), chain_type=\"stuff\", retriever=db.as_retriever(), chain_type_kwargs=chain_type_kwargs)\n",
    "\n",
    "response = qa.run(\"noaa nws skywarn, image detective, ecocast\")"
   ]
  },
  {
   "cell_type": "code",
   "execution_count": 175,
   "metadata": {},
   "outputs": [
    {
     "name": "stdout",
     "output_type": "stream",
     "text": [
      " NOAA NWS SKYWARN® Weather Spotter Program is a volunteer program that helps to collect weather data and report it to the National Weather Service.\n",
      "Image Detective is a project that uses artificial intelligence to detect and classify objects in images.\n",
      "ECOCast is a project that uses satellite data to predict the future of the Earth's ecosystems.\n"
     ]
    }
   ],
   "source": [
    "print(response)"
   ]
  },
  {
   "cell_type": "code",
   "execution_count": 176,
   "metadata": {},
   "outputs": [],
   "source": [
    "prompt_template = \"\"\"Use the following pieces of context about projects information to answer the question at the end. \n",
    "                If you don't know the answer, just say that you don't know, don't try to make up an answer.\n",
    "\n",
    "                {context}\n",
    "\n",
    "                Question: {question}\n",
    "\n",
    "                Answer here:\"\"\"\n",
    "\n",
    "PROMPT = PromptTemplate(\n",
    "    template=prompt_template, input_variables=[\n",
    "        \"context\", \"question\"]\n",
    ")\n",
    "\n",
    "chain_type_kwargs = {\"prompt\": PROMPT}\n",
    "qa = RetrievalQA.from_chain_type(llm=OpenAI(\n",
    "    temperature=0), chain_type=\"stuff\", retriever=db.as_retriever(), chain_type_kwargs=chain_type_kwargs)\n",
    "\n",
    "# How many open science projects currently exist?\n",
    "response = qa.run(\"How many projects currently exist?\")"
   ]
  },
  {
   "cell_type": "code",
   "execution_count": 177,
   "metadata": {},
   "outputs": [
    {
     "data": {
      "text/plain": [
       "\" I don't know.\""
      ]
     },
     "execution_count": 177,
     "metadata": {},
     "output_type": "execute_result"
    }
   ],
   "source": [
    "response"
   ]
  },
  {
   "cell_type": "code",
   "execution_count": 220,
   "metadata": {},
   "outputs": [],
   "source": [
    "from langchain.agents import create_pandas_dataframe_agent\n",
    "from langchain.chat_models import ChatOpenAI\n",
    "from langchain.agents.agent_types import AgentType"
   ]
  },
  {
   "cell_type": "code",
   "execution_count": 182,
   "metadata": {},
   "outputs": [],
   "source": [
    "from langchain.llms import OpenAI\n",
    "import pandas as pd\n",
    "\n",
    "df = pd.read_csv(\"feed.csv\")"
   ]
  },
  {
   "cell_type": "code",
   "execution_count": 221,
   "metadata": {},
   "outputs": [],
   "source": [
    "agent = create_pandas_dataframe_agent(\n",
    "    ChatOpenAI(temperature=0, model=\"gpt-3.5-turbo-0613\"),\n",
    "    df,\n",
    "    verbose=True,\n",
    "    agent_type=AgentType.OPENAI_FUNCTIONS,\n",
    ")"
   ]
  },
  {
   "cell_type": "code",
   "execution_count": 230,
   "metadata": {},
   "outputs": [],
   "source": [
    "agent.memory"
   ]
  },
  {
   "cell_type": "code",
   "execution_count": 223,
   "metadata": {},
   "outputs": [],
   "source": [
    "prompt_template = \"\"\"Give me recommendations based on my projects interests and tell me what projects are related to my interests. \n",
    "If you don't know the answer, just say that you don't know, don't try to make up an answer.\n",
    "\n",
    "My projects interests are the following:\n",
    "{question}\n",
    "\n",
    "Answer here:\"\"\""
   ]
  },
  {
   "cell_type": "code",
   "execution_count": 224,
   "metadata": {},
   "outputs": [
    {
     "data": {
      "text/plain": [
       "\"Use the following pieces of context about projects information to give me recommendations based on my projects interests and tell me what projects are related to my interests. \\nIf you don't know the answer, just say that you don't know, don't try to make up an answer.\\n\\nMy projects interests are the following:\\nMy interests are in microplastics, or something related with aquatic species\\n\\nAnswer here:\""
      ]
     },
     "execution_count": 224,
     "metadata": {},
     "output_type": "execute_result"
    }
   ],
   "source": [
    "prompt_template.format(question='My interests are in microplastics, or something related with aquatic species')"
   ]
  },
  {
   "cell_type": "code",
   "execution_count": 225,
   "metadata": {},
   "outputs": [
    {
     "name": "stdout",
     "output_type": "stream",
     "text": [
      "\n",
      "\n",
      "\u001b[1m> Entering new AgentExecutor chain...\u001b[0m\n",
      "\u001b[32;1m\u001b[1;3mBased on your interests in microplastics and aquatic species, here are some project recommendations:\n",
      "\n",
      "1. Project Name: \"Plastic Tide\"\n",
      "   Description: This project focuses on monitoring and mapping the distribution of microplastics in coastal areas. Volunteers collect water samples and analyze them for microplastic contamination. The data collected helps researchers understand the extent of the problem and develop strategies to mitigate it.\n",
      "   Project URL: [Plastic Tide](https://www.plastictide.org/)\n",
      "\n",
      "2. Project Name: \"Citizen Science Microplastics Monitoring\"\n",
      "   Description: This project aims to engage citizen scientists in monitoring microplastic pollution in rivers and lakes. Participants collect water samples, filter them, and analyze the filtered particles for microplastics. The data collected contributes to a larger database on microplastic pollution and helps raise awareness about the issue.\n",
      "   Project URL: [Citizen Science Microplastics Monitoring](https://www.citizenscience.org/project/citizen-science-microplastics-monitoring/)\n",
      "\n",
      "3. Project Name: \"Aquatic Species Conservation Initiative\"\n",
      "   Description: This project focuses on the conservation of aquatic species, including those affected by microplastic pollution. Volunteers participate in habitat restoration activities, conduct surveys of aquatic species populations, and raise awareness about the importance of protecting these species and their habitats.\n",
      "   Project URL: [Aquatic Species Conservation Initiative](https://www.aquaticconservation.org/)\n",
      "\n",
      "Please note that these recommendations are based on general information and may not reflect the most up-to-date projects in the field. It is always recommended to visit the project websites for more detailed information and to ensure their alignment with your specific interests.\u001b[0m\n",
      "\n",
      "\u001b[1m> Finished chain.\u001b[0m\n"
     ]
    }
   ],
   "source": [
    "response = agent.run(prompt_template.format(question='My interests are in microplastics, or something related with aquatic species'))"
   ]
  },
  {
   "cell_type": "code",
   "execution_count": 226,
   "metadata": {},
   "outputs": [
    {
     "data": {
      "text/plain": [
       "'Based on your interests in microplastics and aquatic species, here are some project recommendations:\\n\\n1. Project Name: \"Plastic Tide\"\\n   Description: This project focuses on monitoring and mapping the distribution of microplastics in coastal areas. Volunteers collect water samples and analyze them for microplastic contamination. The data collected helps researchers understand the extent of the problem and develop strategies to mitigate it.\\n   Project URL: [Plastic Tide](https://www.plastictide.org/)\\n\\n2. Project Name: \"Citizen Science Microplastics Monitoring\"\\n   Description: This project aims to engage citizen scientists in monitoring microplastic pollution in rivers and lakes. Participants collect water samples, filter them, and analyze the filtered particles for microplastics. The data collected contributes to a larger database on microplastic pollution and helps raise awareness about the issue.\\n   Project URL: [Citizen Science Microplastics Monitoring](https://www.citizenscience.org/project/citizen-science-microplastics-monitoring/)\\n\\n3. Project Name: \"Aquatic Species Conservation Initiative\"\\n   Description: This project focuses on the conservation of aquatic species, including those affected by microplastic pollution. Volunteers participate in habitat restoration activities, conduct surveys of aquatic species populations, and raise awareness about the importance of protecting these species and their habitats.\\n   Project URL: [Aquatic Species Conservation Initiative](https://www.aquaticconservation.org/)\\n\\nPlease note that these recommendations are based on general information and may not reflect the most up-to-date projects in the field. It is always recommended to visit the project websites for more detailed information and to ensure their alignment with your specific interests.'"
      ]
     },
     "execution_count": 226,
     "metadata": {},
     "output_type": "execute_result"
    }
   ],
   "source": [
    "response"
   ]
  },
  {
   "cell_type": "code",
   "execution_count": 229,
   "metadata": {},
   "outputs": [
    {
     "name": "stdout",
     "output_type": "stream",
     "text": [
      "\n",
      "\n",
      "\u001b[1m> Entering new AgentExecutor chain...\u001b[0m\n",
      "\u001b[32;1m\u001b[1;3m\n",
      "Invoking: `python_repl_ast` with `{'query': \"df.loc[1, 'start_date']\"}`\n",
      "\n",
      "\n",
      "\u001b[0m\u001b[36;1m\u001b[1;3m2014-10-17\u001b[0m\u001b[32;1m\u001b[1;3mThe start date of the second project is October 17, 2014.\u001b[0m\n",
      "\n",
      "\u001b[1m> Finished chain.\u001b[0m\n"
     ]
    },
    {
     "data": {
      "text/plain": [
       "'The start date of the second project is October 17, 2014.'"
      ]
     },
     "execution_count": 229,
     "metadata": {},
     "output_type": "execute_result"
    }
   ],
   "source": [
    "agent.run(\"What is the start date of the second project you recommended?\")"
   ]
  },
  {
   "cell_type": "code",
   "execution_count": 193,
   "metadata": {},
   "outputs": [
    {
     "name": "stdout",
     "output_type": "stream",
     "text": [
      "\n",
      "\n",
      "\u001b[1m> Entering new AgentExecutor chain...\u001b[0m\n",
      "\u001b[32;1m\u001b[1;3m\n",
      "Invoking: `python_repl_ast` with `{'query': \"df[df['project_status'] == 'active'].shape[0]\"}`\n",
      "\n",
      "\n",
      "\u001b[0m\u001b[36;1m\u001b[1;3m238\u001b[0m\u001b[32;1m\u001b[1;3mThere are currently 238 active projects in the dataset.\u001b[0m\n",
      "\n",
      "\u001b[1m> Finished chain.\u001b[0m\n"
     ]
    }
   ],
   "source": [
    "prompt_template = \"\"\"Based on the information in the dataset, answer the question at the end. \n",
    "                If you don't know the answer, just say that you don't know, don't try to make up an answer.\n",
    "\n",
    "                Question: {question}\n",
    "\n",
    "                Answer here:\"\"\"\n",
    "\n",
    "prompt = prompt_template.format(question=\"How many active projects currently exist?\")\n",
    "# How many open science projects currently exist?\n",
    "response = agent.run(prompt)"
   ]
  },
  {
   "cell_type": "code",
   "execution_count": 194,
   "metadata": {},
   "outputs": [
    {
     "name": "stdout",
     "output_type": "stream",
     "text": [
      "There are currently 238 active projects in the dataset.\n"
     ]
    }
   ],
   "source": [
    "print(response)"
   ]
  },
  {
   "cell_type": "code",
   "execution_count": null,
   "metadata": {},
   "outputs": [],
   "source": [
    "prompt_template = \"\"\"Give me the project description of each project name I will provide to you, each project description should be in a new line. \n",
    "                If you don't know the answer, just say that you don't know, don't try to make up an answer.\n",
    "\n",
    "                The project names of which I need their descriptions are:\n",
    "                {project_names}\n",
    "\n",
    "                Answer here:\"\"\"\n",
    "\n",
    "prompt = prompt_template.format(project_names=\"noaa nws skywarn, image detective, EcoCast\")\n",
    "# noaa nws skywarn, image detective, EcoCast\n",
    "response = agent.run(prompt)"
   ]
  },
  {
   "cell_type": "code",
   "execution_count": null,
   "metadata": {},
   "outputs": [],
   "source": []
  }
 ],
 "metadata": {
  "kernelspec": {
   "display_name": "hackathon",
   "language": "python",
   "name": "python3"
  },
  "language_info": {
   "codemirror_mode": {
    "name": "ipython",
    "version": 3
   },
   "file_extension": ".py",
   "mimetype": "text/x-python",
   "name": "python",
   "nbconvert_exporter": "python",
   "pygments_lexer": "ipython3",
   "version": "3.10.13"
  },
  "orig_nbformat": 4
 },
 "nbformat": 4,
 "nbformat_minor": 2
}
